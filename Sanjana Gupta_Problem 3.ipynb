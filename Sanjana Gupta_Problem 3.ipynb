{
 "cells": [
  {
   "cell_type": "code",
   "execution_count": 1,
   "id": "3c83af9f",
   "metadata": {},
   "outputs": [
    {
     "data": {
      "text/html": [
       "<div id=\"glowscript\" class=\"glowscript\"></div>"
      ],
      "text/plain": [
       "<IPython.core.display.HTML object>"
      ]
     },
     "metadata": {},
     "output_type": "display_data"
    },
    {
     "data": {
      "application/javascript": [
       "if (typeof Jupyter !== \"undefined\") { window.__context = { glowscript_container: $(\"#glowscript\").removeAttr(\"id\")};}else{ element.textContent = ' ';}"
      ],
      "text/plain": [
       "<IPython.core.display.Javascript object>"
      ]
     },
     "metadata": {},
     "output_type": "display_data"
    },
    {
     "data": {
      "text/html": [
       "<div id=\"glowscript\" class=\"glowscript\"></div>"
      ],
      "text/plain": [
       "<IPython.core.display.HTML object>"
      ]
     },
     "metadata": {},
     "output_type": "display_data"
    },
    {
     "data": {
      "application/javascript": [
       "if (typeof Jupyter !== \"undefined\") { window.__context = { glowscript_container: $(\"#glowscript\").removeAttr(\"id\")};}else{ element.textContent = ' ';}"
      ],
      "text/plain": [
       "<IPython.core.display.Javascript object>"
      ]
     },
     "metadata": {},
     "output_type": "display_data"
    }
   ],
   "source": [
    "from vpython import *\n",
    "scene = canvas() \n",
    "import numpy as np\n",
    "import matplotlib as plt"
   ]
  },
  {
   "cell_type": "markdown",
   "id": "a5929fcd",
   "metadata": {},
   "source": [
    "$\\textbf{For Labelling Graphs}$"
   ]
  },
  {
   "cell_type": "code",
   "execution_count": 2,
   "id": "9f7c9f6a",
   "metadata": {},
   "outputs": [
    {
     "data": {
      "application/javascript": [
       "if (typeof Jupyter !== \"undefined\") {require.undef(\"nbextensions/vpython_libraries/glow.min\");}else{element.textContent = ' ';}"
      ],
      "text/plain": [
       "<IPython.core.display.Javascript object>"
      ]
     },
     "metadata": {},
     "output_type": "display_data"
    },
    {
     "data": {
      "application/javascript": [
       "if (typeof Jupyter !== \"undefined\") {require.undef(\"nbextensions/vpython_libraries/glowcomm\");}else{element.textContent = ' ';}"
      ],
      "text/plain": [
       "<IPython.core.display.Javascript object>"
      ]
     },
     "metadata": {},
     "output_type": "display_data"
    },
    {
     "data": {
      "application/javascript": [
       "if (typeof Jupyter !== \"undefined\") {require.undef(\"nbextensions/vpython_libraries/jquery-ui.custom.min\");}else{element.textContent = ' ';}"
      ],
      "text/plain": [
       "<IPython.core.display.Javascript object>"
      ]
     },
     "metadata": {},
     "output_type": "display_data"
    },
    {
     "data": {
      "application/javascript": [
       "if (typeof Jupyter !== \"undefined\") {require([\"nbextensions/vpython_libraries/glow.min\"], function(){console.log(\"GLOW LOADED\");});}else{element.textContent = ' ';}"
      ],
      "text/plain": [
       "<IPython.core.display.Javascript object>"
      ]
     },
     "metadata": {},
     "output_type": "display_data"
    },
    {
     "data": {
      "application/javascript": [
       "if (typeof Jupyter !== \"undefined\") {require([\"nbextensions/vpython_libraries/glowcomm\"], function(){console.log(\"GLOWCOMM LOADED\");});}else{element.textContent = ' ';}"
      ],
      "text/plain": [
       "<IPython.core.display.Javascript object>"
      ]
     },
     "metadata": {},
     "output_type": "display_data"
    },
    {
     "data": {
      "application/javascript": [
       "if (typeof Jupyter !== \"undefined\") {require([\"nbextensions/vpython_libraries/jquery-ui.custom.min\"], function(){console.log(\"JQUERY LOADED\");});}else{element.textContent = ' ';}"
      ],
      "text/plain": [
       "<IPython.core.display.Javascript object>"
      ]
     },
     "metadata": {},
     "output_type": "display_data"
    }
   ],
   "source": [
    "'''\n",
    "fem=gcurve(color=color.blue, label=\"Earth\")  #for plotting momentum\n",
    "f1m=gcurve(color =color.red,label=\"Satellite 1\") #for plotting momentum\n",
    "f2m=gcurve(color =color.yellow,label=\"Satellite 2\")  #for plotting momentum\n",
    "\n",
    "fee=gcurve(color=color.blue, label=\"Earth\") #for plotting total energy\n",
    "f1e=gcurve(color =color.red,label=\"Satellite 1\")  #for plotting total energy\n",
    "f2e=gcurve(color =color.yellow,label=\"Satellite 2\")  #for plotting total energy\n",
    "'''\n",
    "fev=gcurve(color=color.blue, label=\"Earth\") #for plotting velocity\n",
    "f1v=gcurve(color =color.red,label=\"Satellite 1\") #for plotting velocity\n",
    "f2v=gcurve(color =color.yellow,label=\"Satellite 2\") #for plotting velocity"
   ]
  },
  {
   "cell_type": "markdown",
   "id": "812f4287",
   "metadata": {},
   "source": [
    "$\\textbf{Accelaration due to Gravitational force}$"
   ]
  },
  {
   "cell_type": "code",
   "execution_count": 3,
   "id": "f34ef32d",
   "metadata": {},
   "outputs": [],
   "source": [
    "# defining the value of G\n",
    "G=6.673e-11\n",
    "\n",
    "# Acceleration of object a due to object b because of their mutual gravitational interaction is given as:\n",
    "def acc(a, b):\n",
    "    rel_pos = b.pos - a.pos\n",
    "    return G*b.mass * norm(rel_pos)/rel_pos.mag2\n",
    "\n",
    "# Accelaration of a due to all the objects b intracting with it is given as:\n",
    "def totalacc (a, objlist):\n",
    "    sum_acc = vector (0,0,0)\n",
    "    for b in objlist:\n",
    "        if (a!=b):\n",
    "            sum_acc = sum_acc + acc(a, b)\n",
    "    return sum_acc"
   ]
  },
  {
   "cell_type": "markdown",
   "id": "7ca64506",
   "metadata": {},
   "source": [
    "$\\textbf{Constants defining the system}$"
   ]
  },
  {
   "cell_type": "code",
   "execution_count": 4,
   "id": "745fc939",
   "metadata": {},
   "outputs": [],
   "source": [
    "#Listing the constants that will be used\n",
    "myPi = np.pi\n",
    "earth_mass = 5.972e24 # Mass of Earth in kg\n",
    "satellite1_mass = 10e5 # Mass of Satellite 1 in kg\n",
    "satellite2_mass=10e5  # Mass of Satellite 2 in kg\n"
   ]
  },
  {
   "cell_type": "markdown",
   "id": "3aeb1fcb",
   "metadata": {},
   "source": [
    "$\\textbf{Setting up the scene for animation}$"
   ]
  },
  {
   "cell_type": "code",
   "execution_count": 5,
   "id": "6aa7dacb",
   "metadata": {},
   "outputs": [],
   "source": [
    "D = 3.844e5  #in m\n",
    "\n",
    "scene.background = color.black\n",
    "scene.autoscale = 0\n",
    "scene.range = 3500*D"
   ]
  },
  {
   "cell_type": "markdown",
   "id": "491b5e9d",
   "metadata": {},
   "source": [
    "$\\textbf{Defining the initial conditions}$"
   ]
  },
  {
   "cell_type": "code",
   "execution_count": 6,
   "id": "d1bf9d5f",
   "metadata": {},
   "outputs": [],
   "source": [
    "#Initial Conditions\n",
    "earth = sphere( pos=vector(0,0,0) , radius = 5e7, color =color.cyan,  mass= earth_mass, velocity= vector(0,0,0)) # Earth is kept static at the origin, the centre of our frame\n",
    "satellite1 = box( pos=vector(1.923e8,3.329e8,0) , radius = 3e7, color =color.red,  mass=satellite1_mass,velocity= vector(1067,600,0)) \n",
    "satellite2 = box( pos=vector(1.923e8,-3.329e8,0), radius=3e7, color=color.yellow, mass = satellite2_mass, velocity=vector(900,500,0))\n",
    "#note that the radius of earth and the two satellites are NOT their true radii. These are the radii of the spherical objects that will be drawn on the computer screen"
   ]
  },
  {
   "cell_type": "markdown",
   "id": "e73bc968",
   "metadata": {},
   "source": [
    "$\\textbf{Introducing the property of acceleration}$"
   ]
  },
  {
   "cell_type": "code",
   "execution_count": 7,
   "id": "a05b45f4",
   "metadata": {},
   "outputs": [],
   "source": [
    "#Creating a list of objects making up our system and adding attributes for their accelaration and orbits\n",
    "\n",
    "bodies = [earth, satellite1, satellite2] # the three bodies in our system\n",
    "\n",
    "for b in bodies:\n",
    "    b.acc = vector(0,0,0)\n",
    "    b.track=curve (color = b.color)"
   ]
  },
  {
   "cell_type": "markdown",
   "id": "dba74512",
   "metadata": {},
   "source": [
    "$\\textbf{Going to the centre of mass frame}$ <br>\n",
    "$\\text{In the centre of mass frame the total momentum of the system is zero}$"
   ]
  },
  {
   "cell_type": "code",
   "execution_count": 8,
   "id": "a3e4f71d",
   "metadata": {},
   "outputs": [],
   "source": [
    "# seting the total momentum of system to zero (centre of mass frame) \n",
    "sum=vector(0,0,0)\n",
    "for b in bodies:\n",
    "    if (b!=earth):\n",
    "        sum=sum+b.mass*b.velocity\n",
    "\n",
    "earth.velocity=-sum/earth.mass"
   ]
  },
  {
   "cell_type": "markdown",
   "id": "12f971ee",
   "metadata": {},
   "source": [
    "$\\textbf{Time Step}$"
   ]
  },
  {
   "cell_type": "code",
   "execution_count": 9,
   "id": "6daa1c17",
   "metadata": {},
   "outputs": [],
   "source": [
    "t = 0 \n",
    "# dt corresponds to 300 mins here\n",
    "dt=30.*6.*100 #this is the time step"
   ]
  },
  {
   "cell_type": "markdown",
   "id": "7ba6efcc",
   "metadata": {},
   "source": [
    "$\\textbf{Solving the equations of motion using leapfrog method and plotting graphs}$"
   ]
  },
  {
   "cell_type": "code",
   "execution_count": 10,
   "id": "07769cce",
   "metadata": {},
   "outputs": [
    {
     "ename": "KeyboardInterrupt",
     "evalue": "",
     "output_type": "error",
     "traceback": [
      "\u001b[1;31m---------------------------------------------------------------------------\u001b[0m",
      "\u001b[1;31mKeyboardInterrupt\u001b[0m                         Traceback (most recent call last)",
      "\u001b[1;32m<ipython-input-10-8c0a28185dbc>\u001b[0m in \u001b[0;36m<module>\u001b[1;34m\u001b[0m\n\u001b[0;32m     55\u001b[0m         '''\n\u001b[0;32m     56\u001b[0m         \u001b[1;31m#Velocity graphs #Alternate commenting and run\u001b[0m\u001b[1;33m\u001b[0m\u001b[1;33m\u001b[0m\u001b[1;33m\u001b[0m\u001b[0m\n\u001b[1;32m---> 57\u001b[1;33m         \u001b[0mfev\u001b[0m\u001b[1;33m.\u001b[0m\u001b[0mplot\u001b[0m\u001b[1;33m(\u001b[0m\u001b[0mt\u001b[0m\u001b[1;33m,\u001b[0m\u001b[0mearth\u001b[0m\u001b[1;33m.\u001b[0m\u001b[0mvelocity\u001b[0m\u001b[1;33m.\u001b[0m\u001b[0mx\u001b[0m\u001b[1;33m)\u001b[0m\u001b[1;33m\u001b[0m\u001b[1;33m\u001b[0m\u001b[0m\n\u001b[0m\u001b[0;32m     58\u001b[0m         \u001b[0mf1v\u001b[0m\u001b[1;33m.\u001b[0m\u001b[0mplot\u001b[0m\u001b[1;33m(\u001b[0m\u001b[0mt\u001b[0m\u001b[1;33m,\u001b[0m\u001b[0msatellite1\u001b[0m\u001b[1;33m.\u001b[0m\u001b[0mvelocity\u001b[0m\u001b[1;33m.\u001b[0m\u001b[0mx\u001b[0m\u001b[1;33m)\u001b[0m\u001b[1;33m\u001b[0m\u001b[1;33m\u001b[0m\u001b[0m\n\u001b[0;32m     59\u001b[0m         \u001b[0mf2v\u001b[0m\u001b[1;33m.\u001b[0m\u001b[0mplot\u001b[0m\u001b[1;33m(\u001b[0m\u001b[0mt\u001b[0m\u001b[1;33m,\u001b[0m\u001b[0msatellite2\u001b[0m\u001b[1;33m.\u001b[0m\u001b[0mvelocity\u001b[0m\u001b[1;33m.\u001b[0m\u001b[0mx\u001b[0m\u001b[1;33m)\u001b[0m\u001b[1;33m\u001b[0m\u001b[1;33m\u001b[0m\u001b[0m\n",
      "\u001b[1;32m~\\anaconda3\\lib\\site-packages\\vpython\\vpython.py\u001b[0m in \u001b[0;36mplot\u001b[1;34m(self, *args1, **args2)\u001b[0m\n\u001b[0;32m   2235\u001b[0m             \u001b[0mp\u001b[0m \u001b[1;33m=\u001b[0m \u001b[0mself\u001b[0m\u001b[1;33m.\u001b[0m\u001b[0mpreresolve2\u001b[0m\u001b[1;33m(\u001b[0m\u001b[0margs2\u001b[0m\u001b[1;33m)\u001b[0m\u001b[1;33m\u001b[0m\u001b[1;33m\u001b[0m\u001b[0m\n\u001b[0;32m   2236\u001b[0m         \u001b[0mself\u001b[0m\u001b[1;33m.\u001b[0m\u001b[0m_data\u001b[0m \u001b[1;33m=\u001b[0m \u001b[0mself\u001b[0m\u001b[1;33m.\u001b[0m\u001b[0m_data\u001b[0m \u001b[1;33m+\u001b[0m \u001b[0mp\u001b[0m\u001b[1;33m\u001b[0m\u001b[1;33m\u001b[0m\u001b[0m\n\u001b[1;32m-> 2237\u001b[1;33m         \u001b[0mself\u001b[0m\u001b[1;33m.\u001b[0m\u001b[0maddmethod\u001b[0m\u001b[1;33m(\u001b[0m\u001b[1;34m'plot'\u001b[0m\u001b[1;33m,\u001b[0m \u001b[0mp\u001b[0m\u001b[1;33m)\u001b[0m\u001b[1;33m\u001b[0m\u001b[1;33m\u001b[0m\u001b[0m\n\u001b[0m\u001b[0;32m   2238\u001b[0m \u001b[1;33m\u001b[0m\u001b[0m\n\u001b[0;32m   2239\u001b[0m     \u001b[1;32mdef\u001b[0m \u001b[0mdelete\u001b[0m\u001b[1;33m(\u001b[0m\u001b[0mself\u001b[0m\u001b[1;33m)\u001b[0m\u001b[1;33m:\u001b[0m\u001b[1;33m\u001b[0m\u001b[1;33m\u001b[0m\u001b[0m\n",
      "\u001b[1;31mKeyboardInterrupt\u001b[0m: "
     ]
    }
   ],
   "source": [
    "#Initializing leapfrog by finding the velocites at t=dt/2\n",
    "\n",
    "for b in bodies:\n",
    "    b.velocity = b.velocity + totalacc(b, bodies)*dt/2.0\n",
    "\n",
    "#starting leap-frog\n",
    "while True:\n",
    "    rate(50) \n",
    "    for b in bodies:\n",
    "        #updating the positions\n",
    "        b.pos = b.pos + b.velocity*dt\n",
    "        b.track.append(pos=b.pos)\n",
    "\n",
    "        #updating the velocities\n",
    "        b.velocity = b.velocity + totalacc(b, bodies)*dt\n",
    "        \n",
    "        # Plotting Graphs: Momentum\n",
    "        \n",
    "        earth.momentum = earth.mass*earth.velocity\n",
    "        satellite1.momentum = satellite1.mass*satellite1.velocity\n",
    "        satellite2.momentum = satellite2.mass*satellite2.velocity\n",
    "        \n",
    "        #Momentum-Time graphs\n",
    "        #fem.plot(t,earth.momentum.x)\n",
    "        #f1m.plot(t,satellite1.momentum.x)\n",
    "        #f2m.plot(t,satellite2.momentum.x)\n",
    "        \n",
    "        '''\n",
    "        # Plotting Graphs: Total Energy\n",
    "        def gravitational_potential_energy(b1,b2):\n",
    "            # Calculate the gravitational potential energy between b1 by b2.\n",
    "            G = 6.673e-11 \n",
    "            # Calculate distance vector between b1 and b2.\n",
    "            r_vec = b1.pos-b2.pos\n",
    "            # Calculate magnitude of distance vector.\n",
    "            r_mag = mag(r_vec)\n",
    "            # Calculate potential energy magnitude.\n",
    "            energy_mag = -G*b1.mass*b2.mass/r_mag\n",
    "\n",
    "            return energy_mag\n",
    "\n",
    "        # Calculate potential energies:\n",
    "        earth.uenergy = gravitational_potential_energy(earth,satellite1)+gravitational_potential_energy(earth,satellite2)\n",
    "        satellite1.uenergy = gravitational_potential_energy(satellite1,earth)+gravitational_potential_energy(satellite1,satellite2)\n",
    "        satellite2.uenergy = gravitational_potential_energy(satellite2,earth)+gravitational_potential_energy(satellite2,satellite1)\n",
    "        \n",
    "        earth.energy = ((earth.momentum*mag(earth.velocity)/2) + earth.uenergy\n",
    "        satellite1.energy = ((mag(satellite1.momentum)*mag(satellite1.velocity)/2) + satellite1.uenergy\n",
    "        satellite2.energy = ((mag(satellite2.momentum)*mag(satellite2.velocity)/2) + satellite2.uenergy\n",
    "        \n",
    "        #Total Energy graphs\n",
    "        fee.plot(t,earth.energy.x)\n",
    "        f1e.plot(t,satellite1.energy.x)\n",
    "        f2e.plot(t,satellite2.energy.x)\n",
    "        '''\n",
    "        #Velocity graphs #Alternate commenting and run\n",
    "        fev.plot(t,earth.velocity.x)\n",
    "        f1v.plot(t,satellite1.velocity.x)\n",
    "        f2v.plot(t,satellite2.velocity.x)\n",
    "        \n",
    "        \n",
    "        t = t + dt"
   ]
  },
  {
   "cell_type": "code",
   "execution_count": null,
   "id": "13e74485",
   "metadata": {},
   "outputs": [],
   "source": [
    "scene.center = vector(0,0,0) #view centered at the origin of the Centre of Mass coordinate system"
   ]
  },
  {
   "cell_type": "code",
   "execution_count": null,
   "id": "5f529331",
   "metadata": {},
   "outputs": [],
   "source": []
  }
 ],
 "metadata": {
  "kernelspec": {
   "display_name": "Python 3",
   "language": "python",
   "name": "python3"
  },
  "language_info": {
   "codemirror_mode": {
    "name": "ipython",
    "version": 3
   },
   "file_extension": ".py",
   "mimetype": "text/x-python",
   "name": "python",
   "nbconvert_exporter": "python",
   "pygments_lexer": "ipython3",
   "version": "3.8.8"
  }
 },
 "nbformat": 4,
 "nbformat_minor": 5
}
